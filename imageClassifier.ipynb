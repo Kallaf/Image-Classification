{
  "nbformat": 4,
  "nbformat_minor": 0,
  "metadata": {
    "colab": {
      "name": "googlenetVersion.ipynb",
      "provenance": [],
      "collapsed_sections": [],
      "machine_shape": "hm"
    },
    "kernelspec": {
      "name": "python3",
      "display_name": "Python 3"
    },
    "accelerator": "GPU"
  },
  "cells": [
    {
      "cell_type": "markdown",
      "metadata": {
        "id": "t-Kf44feeoPw",
        "colab_type": "text"
      },
      "source": [
        "#Import libraries"
      ]
    },
    {
      "cell_type": "code",
      "metadata": {
        "id": "haTmLd68QPQi",
        "colab_type": "code",
        "colab": {}
      },
      "source": [
        "import torch\n",
        "import torchvision\n",
        "import torchvision.transforms as transforms\n",
        "import matplotlib.pyplot as plt\n",
        "import numpy as np\n",
        "import warnings\n",
        "import torch.nn as nn\n",
        "import torch.nn.functional as F\n",
        "import torch.optim as optim\n",
        "\n",
        "from collections import namedtuple\n",
        "from torch.utils.data import Dataset\n",
        "from torch.autograd import Variable"
      ],
      "execution_count": 0,
      "outputs": []
    },
    {
      "cell_type": "markdown",
      "metadata": {
        "id": "qogRMJ-yeszc",
        "colab_type": "text"
      },
      "source": [
        "# Downloading, Loading and Normalising CIFAR-10"
      ]
    },
    {
      "cell_type": "code",
      "metadata": {
        "id": "_Zb2cY7nQaA5",
        "colab_type": "code",
        "outputId": "3878a816-a9b4-4e40-def0-e9b145d7e5f1",
        "colab": {
          "base_uri": "https://localhost:8080/",
          "height": 84
        }
      },
      "source": [
        "transform = transforms.Compose([\n",
        "    transforms.ToTensor(),\n",
        "    transforms.Normalize([0.485, 0.456, 0.406], [0.229, 0.224, 0.225])\n",
        "])\n",
        "\n",
        "trainset = torchvision.datasets.CIFAR10(root='./data', \n",
        "                                        train=True,\n",
        "                                        download=True, \n",
        "                                        transform=transform)\n",
        "trainloader = torch.utils.data.DataLoader(trainset, batch_size=50,\n",
        "                                          shuffle=True, num_workers=2)\n",
        "\n",
        "testset = torchvision.datasets.CIFAR10(root='./data', \n",
        "                                       train=False,\n",
        "                                       download=True, \n",
        "                                       transform=transform)\n",
        "testloader = torch.utils.data.DataLoader(testset, \n",
        "                                         batch_size=50,\n",
        "                                         shuffle=False)\n",
        "\n",
        "classes = ('plane', 'car', 'bird', 'cat', 'deer', \n",
        "           'dog', 'frog', 'horse', 'ship', 'truck')"
      ],
      "execution_count": 0,
      "outputs": [
        {
          "output_type": "stream",
          "text": [
            "\r0it [00:00, ?it/s]"
          ],
          "name": "stderr"
        },
        {
          "output_type": "stream",
          "text": [
            "Downloading https://www.cs.toronto.edu/~kriz/cifar-10-python.tar.gz to ./data/cifar-10-python.tar.gz\n"
          ],
          "name": "stdout"
        },
        {
          "output_type": "stream",
          "text": [
            "170500096it [00:02, 73756926.32it/s]                               \n"
          ],
          "name": "stderr"
        },
        {
          "output_type": "stream",
          "text": [
            "Extracting ./data/cifar-10-python.tar.gz to ./data\n",
            "Files already downloaded and verified\n"
          ],
          "name": "stdout"
        }
      ]
    },
    {
      "cell_type": "markdown",
      "metadata": {
        "id": "oGy6X91F2VV4",
        "colab_type": "text"
      },
      "source": [
        "# Utility functions"
      ]
    },
    {
      "cell_type": "code",
      "metadata": {
        "id": "p1ha1bls6iFI",
        "colab_type": "code",
        "outputId": "bab0b3c4-a827-4768-e17f-7ff81c1bf729",
        "colab": {
          "base_uri": "https://localhost:8080/",
          "height": 34
        }
      },
      "source": [
        "if torch.cuda.is_available():\n",
        "    torch.cuda.empty_cache()\n",
        "is_cuda = torch.cuda.is_available()\n",
        "is_cuda"
      ],
      "execution_count": 0,
      "outputs": [
        {
          "output_type": "execute_result",
          "data": {
            "text/plain": [
              "True"
            ]
          },
          "metadata": {
            "tags": []
          },
          "execution_count": 3
        }
      ]
    },
    {
      "cell_type": "code",
      "metadata": {
        "id": "-U4uLc4S2bkO",
        "colab_type": "code",
        "colab": {}
      },
      "source": [
        "def fit(epoch,model,data_loader,phase='training',volatile=False):\n",
        "    for e in range(epoch):\n",
        "      if is_cuda:\n",
        "        criterion = nn.CrossEntropyLoss()\n",
        "        optimizer = optim.SGD(net.parameters(), lr=0.001, momentum=0.9)\n",
        "        model = model.cuda()\n",
        "      if phase == 'training':\n",
        "          model.train()\n",
        "      if phase == 'validation':\n",
        "          model.eval()\n",
        "          # volatile=True\n",
        "      running_loss = 0.0\n",
        "      running_correct = 0\n",
        "      for batch_idx , (data,target) in enumerate(data_loader):\n",
        "          if is_cuda:\n",
        "              data,target = data.cuda(),target.cuda()\n",
        "          # data , target = Variable(data,volatile),Variable(target)\n",
        "          if phase == 'training':\n",
        "              optimizer.zero_grad()\n",
        "          output = model(data)\n",
        "          loss = criterion(output,target)\n",
        "          \n",
        "          running_loss += F.cross_entropy(output,target,size_average=False).data\n",
        "          preds = output.data.max(dim=1,keepdim=True)[1]\n",
        "          running_correct += preds.eq(target.data.view_as(preds)).cpu().sum()\n",
        "          if phase == 'training':\n",
        "              loss.backward()\n",
        "              optimizer.step()\n",
        "      \n",
        "      loss = running_loss/len(data_loader.dataset)\n",
        "      accuracy = 100. * running_correct.item()/len(data_loader.dataset)\n",
        "      \n",
        "      print(f'epoch : {e+1} :{phase} loss is {loss:{5}.{2}} and {phase} accuracy is {running_correct}/{len(data_loader.dataset)}{accuracy:{10}.{4}}')\n",
        "    return loss,accuracy\n"
      ],
      "execution_count": 0,
      "outputs": []
    },
    {
      "cell_type": "markdown",
      "metadata": {
        "id": "zXZ8VGpz0JrI",
        "colab_type": "text"
      },
      "source": [
        "# Creating Inception V1 model"
      ]
    },
    {
      "cell_type": "markdown",
      "metadata": {
        "id": "e4DK0BHomCy6",
        "colab_type": "text"
      },
      "source": [
        "## define Inception"
      ]
    },
    {
      "cell_type": "code",
      "metadata": {
        "id": "IduiQIfWl_wf",
        "colab_type": "code",
        "colab": {}
      },
      "source": [
        "class Inception(nn.Module):\n",
        "    def __init__(self, in_planes, n1x1, n3x3red, n3x3, n5x5red, n5x5, pool_planes):\n",
        "        super(Inception, self).__init__()\n",
        "        # 1x1 conv branch\n",
        "        self.b1 = nn.Sequential(\n",
        "            nn.Conv2d(in_planes, n1x1, kernel_size=1),\n",
        "            nn.BatchNorm2d(n1x1),\n",
        "            nn.ReLU(True),\n",
        "        )\n",
        "\n",
        "        # 1x1 conv -> 3x3 conv branch\n",
        "        self.b2 = nn.Sequential(\n",
        "            nn.Conv2d(in_planes, n3x3red, kernel_size=1),\n",
        "            nn.BatchNorm2d(n3x3red),\n",
        "            nn.ReLU(True),\n",
        "            nn.Conv2d(n3x3red, n3x3, kernel_size=3, padding=1),\n",
        "            nn.BatchNorm2d(n3x3),\n",
        "            nn.ReLU(True),\n",
        "        )\n",
        "\n",
        "        # 1x1 conv -> 5x5 conv branch\n",
        "        self.b3 = nn.Sequential(\n",
        "            nn.Conv2d(in_planes, n5x5red, kernel_size=1),\n",
        "            nn.BatchNorm2d(n5x5red),\n",
        "            nn.ReLU(True),\n",
        "            nn.Conv2d(n5x5red, n5x5, kernel_size=3, padding=1),\n",
        "            nn.BatchNorm2d(n5x5),\n",
        "            nn.ReLU(True),\n",
        "            nn.Conv2d(n5x5, n5x5, kernel_size=3, padding=1),\n",
        "            nn.BatchNorm2d(n5x5),\n",
        "            nn.ReLU(True),\n",
        "        )\n",
        "\n",
        "        # 3x3 pool -> 1x1 conv branch\n",
        "        self.b4 = nn.Sequential(\n",
        "            nn.MaxPool2d(3, stride=1, padding=1),\n",
        "            nn.Conv2d(in_planes, pool_planes, kernel_size=1),\n",
        "            nn.BatchNorm2d(pool_planes),\n",
        "            nn.ReLU(True),\n",
        "        )\n",
        "\n",
        "    def forward(self, x):\n",
        "        y1 = self.b1(x)\n",
        "        y2 = self.b2(x)\n",
        "        y3 = self.b3(x)\n",
        "        y4 = self.b4(x)\n",
        "        return torch.cat([y1,y2,y3,y4], 1)\n"
      ],
      "execution_count": 0,
      "outputs": []
    },
    {
      "cell_type": "markdown",
      "metadata": {
        "id": "Hv6xT3o0mNIy",
        "colab_type": "text"
      },
      "source": [
        "## Define GoogleNet"
      ]
    },
    {
      "cell_type": "code",
      "metadata": {
        "id": "GRnOGzUixKAI",
        "colab_type": "code",
        "colab": {}
      },
      "source": [
        "'''GoogLeNet with PyTorch.'''\n",
        "class GoogLeNet(nn.Module):\n",
        "    def __init__(self):\n",
        "        super(GoogLeNet, self).__init__()\n",
        "        self.pre_layers = nn.Sequential(\n",
        "            nn.Conv2d(3, 192, kernel_size=3, padding=1),\n",
        "            nn.BatchNorm2d(192),\n",
        "            nn.ReLU(True),\n",
        "        )\n",
        "\n",
        "        self.a3 = Inception(192,  64,  96, 128, 16, 32, 32)\n",
        "        self.b3 = Inception(256, 128, 128, 192, 32, 96, 64)\n",
        "\n",
        "        self.maxpool = nn.MaxPool2d(3, stride=2, padding=1)\n",
        "\n",
        "        self.a4 = Inception(480, 192,  96, 208, 16,  48,  64)\n",
        "        self.b4 = Inception(512, 160, 112, 224, 24,  64,  64)\n",
        "        self.c4 = Inception(512, 128, 128, 256, 24,  64,  64)\n",
        "        self.d4 = Inception(512, 112, 144, 288, 32,  64,  64)\n",
        "        self.e4 = Inception(528, 256, 160, 320, 32, 128, 128)\n",
        "\n",
        "        self.a5 = Inception(832, 256, 160, 320, 32, 128, 128)\n",
        "        self.b5 = Inception(832, 384, 192, 384, 48, 128, 128)\n",
        "\n",
        "        self.avgpool = nn.AvgPool2d(8, stride=1)\n",
        "        self.linear = nn.Linear(1024, 10)\n",
        "\n",
        "    def forward(self, x):\n",
        "        out = self.pre_layers(x)\n",
        "        out = self.a3(out)\n",
        "        out = self.b3(out)\n",
        "        out = self.maxpool(out)\n",
        "        out = self.a4(out)\n",
        "        out = self.b4(out)\n",
        "        out = self.c4(out)\n",
        "        out = self.d4(out)\n",
        "        out = self.e4(out)\n",
        "        out = self.maxpool(out)\n",
        "        out = self.a5(out)\n",
        "        out = self.b5(out)\n",
        "        out = self.avgpool(out)\n",
        "        out = out.view(out.size(0), -1)\n",
        "        out = self.linear(out)\n",
        "        return out\n",
        "\n",
        "net = GoogLeNet()"
      ],
      "execution_count": 0,
      "outputs": []
    },
    {
      "cell_type": "markdown",
      "metadata": {
        "id": "nGnSy9xPfnbL",
        "colab_type": "text"
      },
      "source": [
        "# Training model"
      ]
    },
    {
      "cell_type": "code",
      "metadata": {
        "colab_type": "code",
        "outputId": "da2f35ec-f510-48d0-f28a-4481cab9b68d",
        "id": "k77WUKW_XpOc",
        "colab": {
          "base_uri": "https://localhost:8080/",
          "height": 235
        }
      },
      "source": [
        "fit(10,net,trainloader)"
      ],
      "execution_count": 0,
      "outputs": [
        {
          "output_type": "stream",
          "text": [
            "/usr/local/lib/python3.6/dist-packages/torch/nn/_reduction.py:43: UserWarning: size_average and reduce args will be deprecated, please use reduction='sum' instead.\n",
            "  warnings.warn(warning.format(ret))\n"
          ],
          "name": "stderr"
        },
        {
          "output_type": "stream",
          "text": [
            "epoch : 1 :training loss is   1.3 and training accuracy is 25780/50000     51.56\n",
            "epoch : 2 :training loss is  0.85 and training accuracy is 35001/50000      70.0\n",
            "epoch : 3 :training loss is  0.64 and training accuracy is 38971/50000     77.94\n",
            "epoch : 4 :training loss is  0.49 and training accuracy is 41424/50000     82.85\n",
            "epoch : 5 :training loss is  0.39 and training accuracy is 43239/50000     86.48\n",
            "epoch : 6 :training loss is  0.31 and training accuracy is 44723/50000     89.45\n",
            "epoch : 7 :training loss is  0.24 and training accuracy is 45852/50000      91.7\n",
            "epoch : 8 :training loss is  0.19 and training accuracy is 46786/50000     93.57\n",
            "epoch : 9 :training loss is  0.15 and training accuracy is 47487/50000     94.97\n",
            "epoch : 10 :training loss is  0.11 and training accuracy is 48195/50000     96.39\n"
          ],
          "name": "stdout"
        },
        {
          "output_type": "execute_result",
          "data": {
            "text/plain": [
              "(tensor(0.1108, device='cuda:0'), 96.39)"
            ]
          },
          "metadata": {
            "tags": []
          },
          "execution_count": 7
        }
      ]
    },
    {
      "cell_type": "markdown",
      "metadata": {
        "id": "tU4_wXdGDwPR",
        "colab_type": "text"
      },
      "source": [
        "# Testing network"
      ]
    },
    {
      "cell_type": "code",
      "metadata": {
        "id": "LpWInz5e61iJ",
        "colab_type": "code",
        "outputId": "80466858-13ec-425b-cf4e-51a66f82f95d",
        "colab": {
          "base_uri": "https://localhost:8080/",
          "height": 34
        }
      },
      "source": [
        "total_correct = 0\n",
        "total_images = 0\n",
        "confusion_matrix = np.zeros([10,10], int)\n",
        "with torch.no_grad():\n",
        "    for data in testloader:\n",
        "        images, labels = data\n",
        "        images, labels =  images.cuda(), labels.cuda()\n",
        "        outputs = net(images)\n",
        "        _, predicted = torch.max(outputs.data, 1)\n",
        "        total_images += labels.size(0)\n",
        "        total_correct += (predicted == labels).sum().item()\n",
        "        for i, l in enumerate(labels):\n",
        "            confusion_matrix[l.item(), predicted[i].item()] += 1 \n",
        "\n",
        "model_accuracy = total_correct / total_images * 100\n",
        "print('Model accuracy on {0} test images: {1:.2f}%'.format(total_images, model_accuracy))"
      ],
      "execution_count": 0,
      "outputs": [
        {
          "output_type": "stream",
          "text": [
            "Model accuracy on 10000 test images: 83.55%\n"
          ],
          "name": "stdout"
        }
      ]
    },
    {
      "cell_type": "code",
      "metadata": {
        "id": "9Gynp9hx6_lf",
        "colab_type": "code",
        "outputId": "66492f71-b192-4260-dc44-094c73dabdfa",
        "colab": {
          "base_uri": "https://localhost:8080/",
          "height": 202
        }
      },
      "source": [
        "print('{0:10s} - Accuarcy'.format('Category'))\n",
        "for i, r in enumerate(confusion_matrix):\n",
        "    print('{0:10s} - {1:.1f}'.format(classes[i], r[i]/np.sum(r)*100))"
      ],
      "execution_count": 0,
      "outputs": [
        {
          "output_type": "stream",
          "text": [
            "Category   - Accuarcy\n",
            "plane      - 84.8\n",
            "car        - 93.6\n",
            "bird       - 77.8\n",
            "cat        - 73.4\n",
            "deer       - 80.5\n",
            "dog        - 76.5\n",
            "frog       - 81.2\n",
            "horse      - 88.4\n",
            "ship       - 91.6\n",
            "truck      - 87.7\n"
          ],
          "name": "stdout"
        }
      ]
    },
    {
      "cell_type": "markdown",
      "metadata": {
        "id": "VfqRPClOEGIW",
        "colab_type": "text"
      },
      "source": [
        "Finally, let us visualise the confusion matrix to determine common misclassifications."
      ]
    },
    {
      "cell_type": "code",
      "metadata": {
        "id": "WCgUZ0S57cpN",
        "colab_type": "code",
        "outputId": "aa16aa60-d630-4513-8c55-29ed6ec5c9e4",
        "colab": {
          "base_uri": "https://localhost:8080/",
          "height": 388
        }
      },
      "source": [
        "fig, ax = plt.subplots(1,1,figsize=(8,6))\n",
        "ax.matshow(confusion_matrix, aspect='auto', vmin=0, vmax=1000, cmap=plt.get_cmap('Blues'))\n",
        "plt.ylabel('Actual Category')\n",
        "plt.yticks(range(10), classes)\n",
        "plt.xlabel('Predicted Category')\n",
        "plt.xticks(range(10), classes)\n",
        "plt.show()"
      ],
      "execution_count": 0,
      "outputs": [
        {
          "output_type": "display_data",
          "data": {
            "image/png": "[encoded data removed]",
            "text/plain": [
              "<Figure size 576x432 with 1 Axes>"
            ]
          },
          "metadata": {
            "tags": []
          }
        }
      ]
    },
    {
      "cell_type": "markdown",
      "metadata": {
        "id": "wznwQqTfENUH",
        "colab_type": "text"
      },
      "source": [
        "From the above visualisation we can see that the best accuracy was achieved on the **`car`** and **`ship`** categories, darkest shades present on the main diagonal. The **`truck`** category was most frequently confused with the **`car`** category. This is understandable, since they are both vehicles and have some visual similarities. **`Planes`** were also commonly confused with **`bird`** and **`ship`**. This could have something to do with a common background texture and colour, blue for both sky and sea. **`cat`** were also commonly confused with **`dog`** and **`frog`**."
      ]
    },
    {
      "cell_type": "markdown",
      "metadata": {
        "id": "jLXlDJmaFKrx",
        "colab_type": "text"
      },
      "source": [
        "To understand precisely which categories were most commonly confused, we can print the absolute and relative values of the confusion matrix, as follows."
      ]
    },
    {
      "cell_type": "code",
      "metadata": {
        "id": "2rrTQRqF7z9M",
        "colab_type": "code",
        "outputId": "c2d68453-a93a-4012-fa1e-3513b24f4842",
        "colab": {
          "base_uri": "https://localhost:8080/",
          "height": 370
        }
      },
      "source": [
        "print('actual/pred'.ljust(16), end='')\n",
        "for i,c in enumerate(classes):\n",
        "    print(c.ljust(10), end='')\n",
        "print()\n",
        "for i,r in enumerate(confusion_matrix):\n",
        "    print(classes[i].ljust(16), end='')\n",
        "    for idx, p in enumerate(r):\n",
        "        print(str(p).ljust(10), end='')\n",
        "    print()\n",
        "    \n",
        "    r = r/np.sum(r)\n",
        "    print(''.ljust(16), end='')\n",
        "    for idx, p in enumerate(r):\n",
        "        print(str(p).ljust(10), end='')\n",
        "    print()"
      ],
      "execution_count": 0,
      "outputs": [
        {
          "output_type": "stream",
          "text": [
            "actual/pred     plane     car       bird      cat       deer      dog       frog      horse     ship      truck     \n",
            "plane           848       20        18        19        14        3         5         7         50        16        \n",
            "                0.848     0.02      0.018     0.019     0.014     0.003     0.005     0.007     0.05      0.016     \n",
            "car             11        936       0         3         0         2         3         2         11        32        \n",
            "                0.011     0.936     0.0       0.003     0.0       0.002     0.003     0.002     0.011     0.032     \n",
            "bird            45        7         778       40        43        31        15        23        12        6         \n",
            "                0.045     0.007     0.778     0.04      0.043     0.031     0.015     0.023     0.012     0.006     \n",
            "cat             11        8         41        734       39        110       19        23        9         6         \n",
            "                0.011     0.008     0.041     0.734     0.039     0.11      0.019     0.023     0.009     0.006     \n",
            "deer            18        2         32        61        805       17        12        48        5         0         \n",
            "                0.018     0.002     0.032     0.061     0.805     0.017     0.012     0.048     0.005     0.0       \n",
            "dog             1         1         34        120       30        765       8         35        1         5         \n",
            "                0.001     0.001     0.034     0.12      0.03      0.765     0.008     0.035     0.001     0.005     \n",
            "frog            8         4         43        80        26        18        812       4         3         2         \n",
            "                0.008     0.004     0.043     0.08      0.026     0.018     0.812     0.004     0.003     0.002     \n",
            "horse           10        7         13        29        21        28        3         884       1         4         \n",
            "                0.01      0.007     0.013     0.029     0.021     0.028     0.003     0.884     0.001     0.004     \n",
            "ship            30        17        3         6         2         3         5         2         916       16        \n",
            "                0.03      0.017     0.003     0.006     0.002     0.003     0.005     0.002     0.916     0.016     \n",
            "truck           16        71        3         11        2         3         2         3         12        877       \n",
            "                0.016     0.071     0.003     0.011     0.002     0.003     0.002     0.003     0.012     0.877     \n"
          ],
          "name": "stdout"
        }
      ]
    }
  ]
}
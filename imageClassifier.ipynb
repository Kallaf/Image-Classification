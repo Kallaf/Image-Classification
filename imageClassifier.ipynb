{
  "nbformat": 4,
  "nbformat_minor": 0,
  "metadata": {
    "colab": {
      "name": "2.ipynb",
      "provenance": []
    },
    "kernelspec": {
      "name": "python3",
      "display_name": "Python 3"
    },
    "accelerator": "GPU"
  },
  "cells": [
    {
      "cell_type": "markdown",
      "metadata": {
        "id": "eWLt6ZLHeUJb",
        "colab_type": "text"
      },
      "source": [
        "# Reading data notes\n",
        "* For reading the Data from the File\n",
        "* Return a dicionery with the DataSet\n",
        "* DataSet is dictionary with the following elements\n",
        "* A 10000x3072 numpy array of uint8s.\n",
        "* Each row of the array stores a 32x32 colour image.\n",
        "* The first 1024 entries contain the red channel values,\n",
        "* the next 1024 the green, and the final 1024 the blue.\n",
        "* The image is stored in row-major order, so that the first 32 entries of the array are the red channel values of the first row of the image.\n",
        "* Data key is b'data'\n",
        "* file names key is b'filenames'\n",
        "* labels key is b'labels'\n"
      ]
    },
    {
      "cell_type": "markdown",
      "metadata": {
        "id": "hPLeA4vh5aOx",
        "colab_type": "text"
      },
      "source": [
        "**Import Google drive**"
      ]
    },
    {
      "cell_type": "code",
      "metadata": {
        "id": "TExCUdN6arjz",
        "colab_type": "code",
        "outputId": "e3cd3da6-a0a5-4d89-8523-4e275f1b9731",
        "colab": {
          "base_uri": "https://localhost:8080/",
          "height": 122
        }
      },
      "source": [
        "from google.colab import drive\n",
        "drive.mount('/content/drive')"
      ],
      "execution_count": 0,
      "outputs": [
        {
          "output_type": "stream",
          "text": [
            "Go to this URL in a browser: https://accounts.google.com/o/oauth2/auth?client_id=947318989803-6bn6qk8qdgf4n4g3pfee6491hc0brc4i.apps.googleusercontent.com&redirect_uri=urn%3Aietf%3Awg%3Aoauth%3A2.0%3Aoob&scope=email%20https%3A%2F%2Fwww.googleapis.com%2Fauth%2Fdocs.test%20https%3A%2F%2Fwww.googleapis.com%2Fauth%2Fdrive%20https%3A%2F%2Fwww.googleapis.com%2Fauth%2Fdrive.photos.readonly%20https%3A%2F%2Fwww.googleapis.com%2Fauth%2Fpeopleapi.readonly&response_type=code\n",
            "\n",
            "Enter your authorization code:\n",
            "··········\n",
            "Mounted at /content/drive\n"
          ],
          "name": "stdout"
        }
      ]
    },
    {
      "cell_type": "markdown",
      "metadata": {
        "id": "m3HTGUH28Ayk",
        "colab_type": "text"
      },
      "source": [
        "# Importing Libraries"
      ]
    },
    {
      "cell_type": "code",
      "metadata": {
        "id": "haTmLd68QPQi",
        "colab_type": "code",
        "colab": {}
      },
      "source": [
        "import torch\n",
        "import torchvision\n",
        "import torchvision.transforms as transforms\n",
        "import matplotlib.pyplot as plt\n",
        "import numpy as np"
      ],
      "execution_count": 0,
      "outputs": []
    },
    {
      "cell_type": "markdown",
      "metadata": {
        "id": "Nu731KlK8IKm",
        "colab_type": "text"
      },
      "source": [
        "# Downloading, Loading and Normalising CIFAR-10\n",
        "PyTorch provides data loaders for common data sets used in vision applications, such as MNIST, CIFAR-10 and ImageNet through the `torchvision` package. Other handy tools are the `torch.utils.data.DataLoader` that we will use to load the data set for training and testing and the `torchvision.transforms`, which we will use to compose a two-step process to prepare the data for use with the CNN."
      ]
    },
    {
      "cell_type": "code",
      "metadata": {
        "id": "_Zb2cY7nQaA5",
        "colab_type": "code",
        "outputId": "53568fd6-148d-4667-e263-9cf1075316da",
        "colab": {
          "base_uri": "https://localhost:8080/",
          "height": 119
        }
      },
      "source": [
        "transform = transforms.Compose(\n",
        "    [transforms.ToTensor(),\n",
        "     transforms.Normalize((0.5, 0.5, 0.5), (0.5, 0.5, 0.5))])\n",
        "\n",
        "trainset = torchvision.datasets.CIFAR10(root='/home/CIFAR-10 Classifier Using CNN in PyTorch/data/', \n",
        "                                        train=True,\n",
        "                                        download=True, \n",
        "                                        transform=transform)\n",
        "trainloader = torch.utils.data.DataLoader(trainset, \n",
        "                                          batch_size=4,\n",
        "                                          shuffle=True)\n",
        "\n",
        "testset = torchvision.datasets.CIFAR10(root='./data', \n",
        "                                       train=False,\n",
        "                                       download=True, \n",
        "                                       transform=transform)\n",
        "testloader = torch.utils.data.DataLoader(testset, \n",
        "                                         batch_size=4,\n",
        "                                         shuffle=False)\n",
        "\n",
        "classes = ('plane', 'car', 'bird', 'cat', 'deer', \n",
        "           'dog', 'frog', 'horse', 'ship', 'truck')"
      ],
      "execution_count": 0,
      "outputs": [
        {
          "output_type": "stream",
          "text": [
            "\r0it [00:00, ?it/s]"
          ],
          "name": "stderr"
        },
        {
          "output_type": "stream",
          "text": [
            "Downloading https://www.cs.toronto.edu/~kriz/cifar-10-python.tar.gz to /home/CIFAR-10 Classifier Using CNN in PyTorch/data/cifar-10-python.tar.gz\n"
          ],
          "name": "stdout"
        },
        {
          "output_type": "stream",
          "text": [
            "170500096it [00:04, 37073711.08it/s]                               \n"
          ],
          "name": "stderr"
        },
        {
          "output_type": "stream",
          "text": [
            "Extracting /home/CIFAR-10 Classifier Using CNN in PyTorch/data/cifar-10-python.tar.gz to /home/CIFAR-10 Classifier Using CNN in PyTorch/data/\n"
          ],
          "name": "stdout"
        },
        {
          "output_type": "stream",
          "text": [
            "\r0it [00:00, ?it/s]"
          ],
          "name": "stderr"
        },
        {
          "output_type": "stream",
          "text": [
            "Downloading https://www.cs.toronto.edu/~kriz/cifar-10-python.tar.gz to ./data/cifar-10-python.tar.gz\n"
          ],
          "name": "stdout"
        },
        {
          "output_type": "stream",
          "text": [
            "170500096it [00:04, 41713268.77it/s]                               \n"
          ],
          "name": "stderr"
        },
        {
          "output_type": "stream",
          "text": [
            "Extracting ./data/cifar-10-python.tar.gz to ./data\n"
          ],
          "name": "stdout"
        }
      ]
    },
    {
      "cell_type": "markdown",
      "metadata": {
        "id": "iQE1awtu9FJw",
        "colab_type": "text"
      },
      "source": [
        "# Display Random Batch of 4 Training Images\n",
        "Using the `trainloader` we will now get a random batch of 4 training images and plot them to see what CIFAR-10 images look like."
      ]
    },
    {
      "cell_type": "code",
      "metadata": {
        "id": "L8186oZiRWaR",
        "colab_type": "code",
        "outputId": "1baad5f0-6413-454b-9674-69fdb89fe7f3",
        "colab": {
          "base_uri": "https://localhost:8080/",
          "height": 186
        }
      },
      "source": [
        "def convert_to_imshow_format(image):\n",
        "    # first convert back to [0,1] range from [-1,1] range\n",
        "    image = image / 2 + 0.5\n",
        "    image = image.numpy()\n",
        "    # convert from CHW to HWC\n",
        "    # from 3x32x32 to 32x32x3\n",
        "    return image.transpose(1,2,0)\n",
        "\n",
        "dataiter = iter(trainloader)\n",
        "images, labels = dataiter.next()\n",
        "\n",
        "fig, axes = plt.subplots(1, len(images), figsize=(12,2.5))\n",
        "for idx, image in enumerate(images):\n",
        "    axes[idx].imshow(convert_to_imshow_format(image))\n",
        "    axes[idx].set_title(classes[labels[idx]])\n",
        "    axes[idx].set_xticks([])\n",
        "    axes[idx].set_yticks([])"
      ],
      "execution_count": 0,
      "outputs": [
        {
          "output_type": "display_data",
          "data": {
            "image/png": "[encoded data removed]",
            "text/plain": [
              "<Figure size 864x180 with 4 Axes>"
            ]
          },
          "metadata": {
            "tags": []
          }
        }
      ]
    },
    {
      "cell_type": "markdown",
      "metadata": {
        "id": "pUlZqUAS9Zrs",
        "colab_type": "text"
      },
      "source": [
        "# Defining the Convolutional Neural Network\n",
        "The network has the following layout,\n",
        "\n",
        "`Input > Conv (ReLU) > MaxPool > Conv (ReLU) > MaxPool > FC (ReLU) > FC (ReLU) > FC (SoftMax) > 10 outputs`\n",
        "\n",
        "where:\n",
        "\n",
        "`Conv` is a convolutional layer, `ReLU` is the activation function, `MaxPool` is a pooling layer, `FC` is a fully connected layer and `SoftMax` is the activation function of the output layer.\n",
        "\n",
        "## Layer Dimensions\n",
        "### Input Size\n",
        "The images are 3x32x32, i.e., 3 channels (red, green, blue) each of size 32x32 pixels.\n",
        "### First Convolutional Layer\n",
        "The first convolutional layer expects 3 input channels and will convolve 6 filters each of size 3x5x5. Since padding is set to 0 and stride is set to 1, the output size is 6x28x28, because (32−5)+1=28. This layer therefore has ((5×5×3)+1)×6=456 parameters.\n",
        "### First Max-Pooling Layer\n",
        "The first down-sampling layer uses max pooling with a 2x2 kernel and stride set to 2. This effectively drops the size from 6x28x28 to 6x14x14.\n",
        "### Second Convolutional Layer\n",
        "The second convolutional layers expects 6 input channels and will convolve 16 filters each of size 6x5x5. Since padding is set to 0 and stride is set to 1, the output size is 16x10x10, because \n",
        "(14−5)+1=10. This layer therefore has ((5×5×6)+1)×16=2416 parameters.\n",
        "### Second Max-Pooling Layer\n",
        "The second down-sampling layer uses max pooling with a 2x2 kernel and stride set to 2. This effectively drops the size from 16x10x10 to 16x5x5.\n",
        "### First Fully-Connected Layer\n",
        "The output from the final max pooling layer needs to be flattened so that we can connect it to a fully connected layer. This is achieved using the `torch.Tensor.view` method. By specifying `-1` the method will automatically infer the number of rows required. This is done to handle the mini-batch size of data.\n",
        "\n",
        "The fully-connected layer uses ReLU for activation and has 120 nodes, thus in total it needs \n",
        "((16×5×5)+1)×120=48120 parameters.\n",
        "### Second Fully-Connected Layer\n",
        "The output from the first fully-connected layer is connected to another fully connected layer with 84 nodes, using ReLU as an activation function. This layer thus needs \n",
        "(120+1)×84=10164 parameters.\n",
        "### Output Layer\n",
        "The last fully-connected layer uses softmax and is made up of ten nodes, one for each category in CIFAR-10. This layer requires (84+1)×10=850 parameters.\n",
        "# Total Network Parameters\n",
        "This convolutional neural network has a total of 456+2416+48120+10164+850=62006 parameters."
      ]
    },
    {
      "cell_type": "code",
      "metadata": {
        "id": "FeF8HaR-2aXq",
        "colab_type": "code",
        "colab": {}
      },
      "source": [
        "import torch.nn as nn\n",
        "import torch.nn.functional as F\n",
        "\n",
        "class Net(nn.Module):\n",
        "    def __init__(self):\n",
        "        super(Net, self).__init__()\n",
        "        self.conv1 = nn.Conv2d(3, 6, 5)\n",
        "        self.pool = nn.MaxPool2d(2, 2)\n",
        "        self.conv2 = nn.Conv2d(6, 16, 5)\n",
        "        self.fc1 = nn.Linear(16 * 5 * 5, 120)\n",
        "        self.fc2 = nn.Linear(120, 84)\n",
        "        self.fc3 = nn.Linear(84, 10)\n",
        "\n",
        "    def forward(self, x):\n",
        "        x = self.pool(F.relu(self.conv1(x)))\n",
        "        x = self.pool(F.relu(self.conv2(x)))\n",
        "        x = x.view(-1, 16 * 5 * 5)\n",
        "        x = F.relu(self.fc1(x))\n",
        "        x = F.relu(self.fc2(x))\n",
        "        x = self.fc3(x)\n",
        "        return x\n",
        "    \n",
        "net = Net()"
      ],
      "execution_count": 0,
      "outputs": []
    },
    {
      "cell_type": "markdown",
      "metadata": {
        "id": "VZLSVZmaBJkw",
        "colab_type": "text"
      },
      "source": [
        "# Defining the Loss Function and Optimizer\n",
        "Since we are classifying images into more than two classes we will use cross-entropy as a loss function. To optimize the network we will employ stochastic gradient descent (SGD) with momentum to help get us over local minima and saddle points in the loss function space."
      ]
    },
    {
      "cell_type": "code",
      "metadata": {
        "id": "L0GKEbpF2hMe",
        "colab_type": "code",
        "colab": {}
      },
      "source": [
        "import torch.optim as optim\n",
        "\n",
        "criterion = nn.CrossEntropyLoss()\n",
        "optimizer = optim.SGD(net.parameters(), lr=0.001, momentum=0.9)"
      ],
      "execution_count": 0,
      "outputs": []
    },
    {
      "cell_type": "markdown",
      "metadata": {
        "id": "3RWPQpMxBc_a",
        "colab_type": "text"
      },
      "source": [
        "# Training the Network\n",
        "We will now train the network using the `trainloader` data, by going over all the training data in batches of 4 images, and repeating the whole process 2 times, i.e., 2 epochs. Every 2000 batches we report on training progress by printing the current epoch and batch number along with the running loss value.\n",
        "\n",
        "Once training is complete, we will save the model parameters to disk. This will make it possible to load the model parameters from disk the next time we run this notebook and thus not have to train the model again, saving some time."
      ]
    },
    {
      "cell_type": "code",
      "metadata": {
        "id": "gPvVqy4q5H-4",
        "colab_type": "code",
        "outputId": "820fb449-14f7-4ac5-9513-265c618eb7d0",
        "colab": {
          "base_uri": "https://localhost:8080/",
          "height": 252
        }
      },
      "source": [
        "\n",
        "import os\n",
        "\n",
        "model_directory_path = '/home/CIFAR-10 Classifier Using CNN in PyTorch/model/'\n",
        "model_path = model_directory_path + 'cifar-10-cnn-model.pt'\n",
        "\n",
        "if not os.path.exists(model_directory_path):\n",
        "    os.makedirs(model_directory_path)\n",
        "\n",
        "if os.path.isfile(model_path):\n",
        "    # load trained model parameters from disk\n",
        "    net.load_state_dict(torch.load(model_path))\n",
        "    print('Loaded model parameters from disk.')\n",
        "else:\n",
        "    for epoch in range(2):  # loop over the dataset multiple times\n",
        "\n",
        "        running_loss = 0.0\n",
        "        for i, data in enumerate(trainloader, 0):\n",
        "            # get the inputs\n",
        "            inputs, labels = data\n",
        "\n",
        "            # zero the parameter gradients\n",
        "            optimizer.zero_grad()\n",
        "\n",
        "            # forward + backward + optimize\n",
        "            outputs = net(inputs)\n",
        "            loss = criterion(outputs, labels)\n",
        "            loss.backward()\n",
        "            optimizer.step()\n",
        "\n",
        "            # print statistics\n",
        "            running_loss += loss.item()\n",
        "            if i % 2000 == 1999:    # print every 2000 mini-batches\n",
        "                print('[%d, %5d] loss: %.3f' %\n",
        "                      (epoch + 1, i + 1, running_loss / 2000))\n",
        "                running_loss = 0.0\n",
        "    print('Finished Training.')\n",
        "    torch.save(net.state_dict(), model_path)\n",
        "    print('Saved model parameters to disk.')"
      ],
      "execution_count": 0,
      "outputs": [
        {
          "output_type": "stream",
          "text": [
            "[1,  2000] loss: 2.235\n",
            "[1,  4000] loss: 1.911\n",
            "[1,  6000] loss: 1.693\n",
            "[1,  8000] loss: 1.600\n",
            "[1, 10000] loss: 1.523\n",
            "[1, 12000] loss: 1.486\n",
            "[2,  2000] loss: 1.410\n",
            "[2,  4000] loss: 1.378\n",
            "[2,  6000] loss: 1.364\n",
            "[2,  8000] loss: 1.351\n",
            "[2, 10000] loss: 1.347\n",
            "[2, 12000] loss: 1.315\n",
            "Finished Training.\n",
            "Saved model parameters to disk.\n"
          ],
          "name": "stdout"
        }
      ]
    },
    {
      "cell_type": "markdown",
      "metadata": {
        "id": "QpLse1m5B8i7",
        "colab_type": "text"
      },
      "source": [
        "# Testing the Network\n",
        "Now that the network is trained we can evaluate how it performs on the testing data set. Let us load four random images from the testing data set and their corresponding labels."
      ]
    },
    {
      "cell_type": "code",
      "metadata": {
        "id": "P8OJSTbw6DgN",
        "colab_type": "code",
        "outputId": "9ff218ef-5dad-41ae-ce3d-a1755916c4be",
        "colab": {
          "base_uri": "https://localhost:8080/",
          "height": 186
        }
      },
      "source": [
        "dataiter = iter(testloader)\n",
        "images, labels = dataiter.next()\n",
        "\n",
        "fig, axes = plt.subplots(1, len(images), figsize=(12,2.5))\n",
        "for idx, image in enumerate(images):\n",
        "    axes[idx].imshow(convert_to_imshow_format(image))\n",
        "    axes[idx].set_title(classes[labels[idx]])\n",
        "    axes[idx].set_xticks([])\n",
        "    axes[idx].set_yticks([])"
      ],
      "execution_count": 0,
      "outputs": [
        {
          "output_type": "display_data",
          "data": {
            "image/png": "[encoded data removed]",
            "text/plain": [
              "<Figure size 864x180 with 4 Axes>"
            ]
          },
          "metadata": {
            "tags": []
          }
        }
      ]
    },
    {
      "cell_type": "markdown",
      "metadata": {
        "id": "-VJR9DRRCIJz",
        "colab_type": "text"
      },
      "source": [
        "Next, we input the four images to the trained network to get class (label/category) predictions."
      ]
    },
    {
      "cell_type": "code",
      "metadata": {
        "id": "ykTSruQl6Szl",
        "colab_type": "code",
        "colab": {}
      },
      "source": [
        "outputs = net(images)"
      ],
      "execution_count": 0,
      "outputs": []
    },
    {
      "cell_type": "markdown",
      "metadata": {
        "id": "7SDKmFLLCUEs",
        "colab_type": "text"
      },
      "source": [
        "The network outputs a 2D tensor (array) of size 4x10, a row for each image and a column for each category. The values are raw outputs from the linear transformation \n",
        "**y=xAT+b**\n",
        ". The category predicted for each image (row) is thus the column index containing the maximum value in that row."
      ]
    },
    {
      "cell_type": "code",
      "metadata": {
        "id": "fYoko3F86ZFF",
        "colab_type": "code",
        "outputId": "510cce2d-43e1-402c-ec3a-bf0b16358c63",
        "colab": {
          "base_uri": "https://localhost:8080/",
          "height": 151
        }
      },
      "source": [
        "outputs"
      ],
      "execution_count": 0,
      "outputs": [
        {
          "output_type": "execute_result",
          "data": {
            "text/plain": [
              "tensor([[-0.8274, -1.0562,  0.4993,  1.7715, -0.4335,  0.8290,  1.5395, -0.7941,\n",
              "         -0.5256, -1.0077],\n",
              "        [ 4.4627,  5.2748, -2.5606, -2.6001, -3.4147, -4.3581, -4.9039, -2.8118,\n",
              "          6.0555,  5.0819],\n",
              "        [ 2.7807,  4.0506, -1.6090, -1.0759, -2.6012, -2.6134, -2.6932, -2.1487,\n",
              "          3.3891,  3.0645],\n",
              "        [ 1.7700, -0.0201,  0.2503, -0.9165,  0.4639, -2.0456, -2.1009, -0.9756,\n",
              "          2.3648,  0.2604]], grad_fn=<AddmmBackward>)"
            ]
          },
          "metadata": {
            "tags": []
          },
          "execution_count": 16
        }
      ]
    },
    {
      "cell_type": "markdown",
      "metadata": {
        "id": "tKKC8xBRCryN",
        "colab_type": "text"
      },
      "source": [
        "If we prefer to get a probability score, we can use the `nn.Softmax` function on the raw output as follows."
      ]
    },
    {
      "cell_type": "code",
      "metadata": {
        "id": "nqboJxsR6hEl",
        "colab_type": "code",
        "outputId": "47d4d9c5-1bbd-4aec-8e74-5de8d5cd3b9e",
        "colab": {
          "base_uri": "https://localhost:8080/",
          "height": 168
        }
      },
      "source": [
        "sm = nn.Softmax(dim=1)\n",
        "sm_outputs = sm(outputs)\n",
        "print(sm_outputs)"
      ],
      "execution_count": 0,
      "outputs": [
        {
          "output_type": "stream",
          "text": [
            "tensor([[2.5240e-02, 2.0078e-02, 9.5111e-02, 3.3942e-01, 3.7425e-02, 1.3226e-01,\n",
            "         2.6916e-01, 2.6093e-02, 3.4131e-02, 2.1075e-02],\n",
            "        [9.9696e-02, 2.2458e-01, 8.8814e-05, 8.5378e-05, 3.7807e-05, 1.4718e-05,\n",
            "         8.5270e-06, 6.9088e-05, 4.9023e-01, 1.8519e-01],\n",
            "        [1.2853e-01, 4.5765e-01, 1.5944e-03, 2.7170e-03, 5.9114e-04, 5.8396e-04,\n",
            "         5.3919e-04, 9.2938e-04, 2.3616e-01, 1.7071e-01],\n",
            "        [2.5869e-01, 4.3188e-02, 5.6600e-02, 1.7623e-02, 7.0077e-02, 5.6977e-03,\n",
            "         5.3910e-03, 1.6611e-02, 4.6895e-01, 5.7174e-02]],\n",
            "       grad_fn=<SoftmaxBackward>)\n"
          ],
          "name": "stdout"
        }
      ]
    },
    {
      "cell_type": "markdown",
      "metadata": {
        "id": "Nd6Zzw26C9Mt",
        "colab_type": "text"
      },
      "source": [
        "# Predicted Category for Four Test Images"
      ]
    },
    {
      "cell_type": "code",
      "metadata": {
        "id": "z1kNGaNQ6soT",
        "colab_type": "code",
        "outputId": "9c49eb2f-2e22-41a6-dd36-f20358cf86dd",
        "colab": {
          "base_uri": "https://localhost:8080/",
          "height": 84
        }
      },
      "source": [
        "probs, index = torch.max(sm_outputs, dim=1)\n",
        "\n",
        "for p, i in zip(probs, index):\n",
        "    print('{0} - {1:.4f}'.format(classes[i], p))"
      ],
      "execution_count": 0,
      "outputs": [
        {
          "output_type": "stream",
          "text": [
            "cat - 0.3394\n",
            "ship - 0.4902\n",
            "car - 0.4576\n",
            "ship - 0.4689\n"
          ],
          "name": "stdout"
        }
      ]
    },
    {
      "cell_type": "markdown",
      "metadata": {
        "id": "FjZa1V3pDGiH",
        "colab_type": "text"
      },
      "source": [
        "The model got half of the four testing images correct. It correctly categorised the cat and plane images, but failed on the second ship and the plane images, instead categorising them as car and ship respectively. Let us now evaluate the model on the whole testing set."
      ]
    },
    {
      "cell_type": "markdown",
      "metadata": {
        "id": "tU4_wXdGDwPR",
        "colab_type": "text"
      },
      "source": [
        "# Predicting the Category for all Test Images"
      ]
    },
    {
      "cell_type": "code",
      "metadata": {
        "id": "LpWInz5e61iJ",
        "colab_type": "code",
        "outputId": "7d73e75d-4e92-4e01-a185-d06cd58eb407",
        "colab": {
          "base_uri": "https://localhost:8080/",
          "height": 34
        }
      },
      "source": [
        "total_correct = 0\n",
        "total_images = 0\n",
        "confusion_matrix = np.zeros([10,10], int)\n",
        "with torch.no_grad():\n",
        "    for data in testloader:\n",
        "        images, labels = data\n",
        "        outputs = net(images)\n",
        "        _, predicted = torch.max(outputs.data, 1)\n",
        "        total_images += labels.size(0)\n",
        "        total_correct += (predicted == labels).sum().item()\n",
        "        for i, l in enumerate(labels):\n",
        "            confusion_matrix[l.item(), predicted[i].item()] += 1 \n",
        "\n",
        "model_accuracy = total_correct / total_images * 100\n",
        "print('Model accuracy on {0} test images: {1:.2f}%'.format(total_images, model_accuracy))"
      ],
      "execution_count": 0,
      "outputs": [
        {
          "output_type": "stream",
          "text": [
            "Model accuracy on 10000 test images: 53.77%\n"
          ],
          "name": "stdout"
        }
      ]
    },
    {
      "cell_type": "markdown",
      "metadata": {
        "id": "HIwetQQjD7Fx",
        "colab_type": "text"
      },
      "source": [
        "The model performed much better than random guessing, which would give us an accuracy of 10% since there are ten categories in CIFAR-10. Let us now use the confusion matrix to compute the accuracy of the model per category."
      ]
    },
    {
      "cell_type": "code",
      "metadata": {
        "id": "9Gynp9hx6_lf",
        "colab_type": "code",
        "outputId": "66b53a9c-b1b4-44a1-8a9e-e653ee644697",
        "colab": {
          "base_uri": "https://localhost:8080/",
          "height": 202
        }
      },
      "source": [
        "print('{0:10s} - Accuarcy'.format('Category'))\n",
        "for i, r in enumerate(confusion_matrix):\n",
        "    print('{0:10s} - {1:.1f}'.format(classes[i], r[i]/np.sum(r)*100))"
      ],
      "execution_count": 0,
      "outputs": [
        {
          "output_type": "stream",
          "text": [
            "Category   - Accuarcy\n",
            "plane      - 46.9\n",
            "car        - 69.1\n",
            "bird       - 35.5\n",
            "cat        - 44.1\n",
            "deer       - 38.9\n",
            "dog        - 33.0\n",
            "frog       - 64.8\n",
            "horse      - 70.3\n",
            "ship       - 68.8\n",
            "truck      - 66.3\n"
          ],
          "name": "stdout"
        }
      ]
    },
    {
      "cell_type": "markdown",
      "metadata": {
        "id": "VfqRPClOEGIW",
        "colab_type": "text"
      },
      "source": [
        "Finally, let us visualise the confusion matrix to determine common misclassifications."
      ]
    },
    {
      "cell_type": "code",
      "metadata": {
        "id": "WCgUZ0S57cpN",
        "colab_type": "code",
        "outputId": "d545da0d-4983-42b6-ac24-8e80742fe6dc",
        "colab": {
          "base_uri": "https://localhost:8080/",
          "height": 388
        }
      },
      "source": [
        "fig, ax = plt.subplots(1,1,figsize=(8,6))\n",
        "ax.matshow(confusion_matrix, aspect='auto', vmin=0, vmax=1000, cmap=plt.get_cmap('Blues'))\n",
        "plt.ylabel('Actual Category')\n",
        "plt.yticks(range(10), classes)\n",
        "plt.xlabel('Predicted Category')\n",
        "plt.xticks(range(10), classes)\n",
        "plt.show()"
      ],
      "execution_count": 0,
      "outputs": [
        {
          "output_type": "display_data",
          "data": {
            "image/png": "[encoded data removed]",
            "text/plain": [
              "<Figure size 576x432 with 1 Axes>"
            ]
          },
          "metadata": {
            "tags": []
          }
        }
      ]
    },
    {
      "cell_type": "markdown",
      "metadata": {
        "id": "wznwQqTfENUH",
        "colab_type": "text"
      },
      "source": [
        "From the above visualisation we can see that the best accuracy was achieved on the **`car`** and **`ship`** categories, darkest shades present on the main diagonal. The **`truck`** category was most frequently confused with the **`car`** category. This is understandable, since they are both vehicles and have some visual similarities. **`Planes`** were also commonly confused with **`bird`** and **`ship`**. This could have something to do with a common background texture and colour, blue for both sky and sea. **`cat`** were also commonly confused with **`dog`** and **`frog`**."
      ]
    },
    {
      "cell_type": "markdown",
      "metadata": {
        "id": "jLXlDJmaFKrx",
        "colab_type": "text"
      },
      "source": [
        "To understand precisely which categories were most commonly confused, we can print the absolute and relative values of the confusion matrix, as follows."
      ]
    },
    {
      "cell_type": "code",
      "metadata": {
        "id": "2rrTQRqF7z9M",
        "colab_type": "code",
        "outputId": "17c23c03-5ce4-499a-e997-f0a0c0f532d1",
        "colab": {
          "base_uri": "https://localhost:8080/",
          "height": 370
        }
      },
      "source": [
        "print('actual/pred'.ljust(16), end='')\n",
        "for i,c in enumerate(classes):\n",
        "    print(c.ljust(10), end='')\n",
        "print()\n",
        "for i,r in enumerate(confusion_matrix):\n",
        "    print(classes[i].ljust(16), end='')\n",
        "    for idx, p in enumerate(r):\n",
        "        print(str(p).ljust(10), end='')\n",
        "    print()\n",
        "    \n",
        "    r = r/np.sum(r)\n",
        "    print(''.ljust(16), end='')\n",
        "    for idx, p in enumerate(r):\n",
        "        print(str(p).ljust(10), end='')\n",
        "    print()"
      ],
      "execution_count": 0,
      "outputs": [
        {
          "output_type": "stream",
          "text": [
            "actual/pred     plane     car       bird      cat       deer      dog       frog      horse     ship      truck     \n",
            "plane           469       56        72        40        31        6         16        23        205       82        \n",
            "                0.469     0.056     0.072     0.04      0.031     0.006     0.016     0.023     0.205     0.082     \n",
            "car             12        691       0         18        2         7         13        15        42        200       \n",
            "                0.012     0.691     0.0       0.018     0.002     0.007     0.013     0.015     0.042     0.2       \n",
            "bird            54        19        355       143       120       73        100       77        38        21        \n",
            "                0.054     0.019     0.355     0.143     0.12      0.073     0.1       0.077     0.038     0.021     \n",
            "cat             15        24        58        441       66        111       112       113       12        48        \n",
            "                0.015     0.024     0.058     0.441     0.066     0.111     0.112     0.113     0.012     0.048     \n",
            "deer            29        20        88        105       389       34        134       164       23        14        \n",
            "                0.029     0.02      0.088     0.105     0.389     0.034     0.134     0.164     0.023     0.014     \n",
            "dog             5         16        57        281       51        330       53        159       27        21        \n",
            "                0.005     0.016     0.057     0.281     0.051     0.33      0.053     0.159     0.027     0.021     \n",
            "frog            7         26        38        133       69        13        648       31        10        25        \n",
            "                0.007     0.026     0.038     0.133     0.069     0.013     0.648     0.031     0.01      0.025     \n",
            "horse           9         7         19        91        51        53        19        703       7         41        \n",
            "                0.009     0.007     0.019     0.091     0.051     0.053     0.019     0.703     0.007     0.041     \n",
            "ship            62        93        16        27        6         3         10        7         688       88        \n",
            "                0.062     0.093     0.016     0.027     0.006     0.003     0.01      0.007     0.688     0.088     \n",
            "truck           17        176       8         36        5         3         12        36        44        663       \n",
            "                0.017     0.176     0.008     0.036     0.005     0.003     0.012     0.036     0.044     0.663     \n"
          ],
          "name": "stdout"
        }
      ]
    },
    {
      "cell_type": "markdown",
      "metadata": {
        "id": "-sFxj-8lFRDu",
        "colab_type": "text"
      },
      "source": [
        "# Conclusion\n",
        "In this notebook, we trained a simple convolutional neural network using PyTorch on the CIFAR-10 data set. 50,000 images were used for training and 10,000 images were used to evaluate the performance. The model performed well, achieving an accuracy of 53.77% compared to a baseline of 10%, since there are 10 categories in CIFAR-10, if the model guessed randomly.\n",
        "\n",
        "To improve the performance we can try adding convolution layers, more filters or more fully connected layers. We could also train the model for more than two epochs while introducing some form of regularisation, such as dropout or batch normalization, so as not to overfit the training data.\n",
        "\n",
        "Keep in mind that complex models with hundreds of thousands of parameters are computationally more expensive to train and thus you should consider training such models on a GPU enabled machine to speed up the process."
      ]
    }
  ]
}